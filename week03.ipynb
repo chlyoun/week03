{
 "cells": [
  {
   "cell_type": "code",
   "execution_count": 1,
   "id": "90d90540-c6b4-4e7a-a96d-48f3a2bf0504",
   "metadata": {},
   "outputs": [],
   "source": [
    "import pandas as pd\n",
    "import numpy as np"
   ]
  },
  {
   "cell_type": "code",
   "execution_count": 2,
   "id": "90727714-edf2-45ca-a03c-952cc2b55bbb",
   "metadata": {},
   "outputs": [
    {
     "data": {
      "text/html": [
       "<div>\n",
       "<style scoped>\n",
       "    .dataframe tbody tr th:only-of-type {\n",
       "        vertical-align: middle;\n",
       "    }\n",
       "\n",
       "    .dataframe tbody tr th {\n",
       "        vertical-align: top;\n",
       "    }\n",
       "\n",
       "    .dataframe thead th {\n",
       "        text-align: right;\n",
       "    }\n",
       "</style>\n",
       "<table border=\"1\" class=\"dataframe\">\n",
       "  <thead>\n",
       "    <tr style=\"text-align: right;\">\n",
       "      <th></th>\n",
       "      <th>family_name</th>\n",
       "      <th>first_name</th>\n",
       "      <th>age</th>\n",
       "    </tr>\n",
       "  </thead>\n",
       "  <tbody>\n",
       "    <tr>\n",
       "      <th>0</th>\n",
       "      <td>홍</td>\n",
       "      <td>길동</td>\n",
       "      <td>23</td>\n",
       "    </tr>\n",
       "    <tr>\n",
       "      <th>1</th>\n",
       "      <td>김</td>\n",
       "      <td>철수</td>\n",
       "      <td>45</td>\n",
       "    </tr>\n",
       "    <tr>\n",
       "      <th>2</th>\n",
       "      <td>이</td>\n",
       "      <td>성계</td>\n",
       "      <td>99</td>\n",
       "    </tr>\n",
       "    <tr>\n",
       "      <th>3</th>\n",
       "      <td>박</td>\n",
       "      <td>지성</td>\n",
       "      <td>41</td>\n",
       "    </tr>\n",
       "    <tr>\n",
       "      <th>4</th>\n",
       "      <td>최</td>\n",
       "      <td>용수</td>\n",
       "      <td>48</td>\n",
       "    </tr>\n",
       "  </tbody>\n",
       "</table>\n",
       "</div>"
      ],
      "text/plain": [
       "  family_name first_name  age\n",
       "0           홍         길동   23\n",
       "1           김         철수   45\n",
       "2           이         성계   99\n",
       "3           박         지성   41\n",
       "4           최         용수   48"
      ]
     },
     "execution_count": 2,
     "metadata": {},
     "output_type": "execute_result"
    }
   ],
   "source": [
    "#리스트를 생성하기\n",
    "list1 = ['홍','김','이','박','최']\n",
    "list2 = ['길동','철수','성계','지성','용수']\n",
    "list3 = [23,45,99,41,48]\n",
    "\n",
    "names_dic = {'family_name':list1, 'first_name':list2, 'age':list3}\n",
    "\n",
    "names = pd.DataFrame(names_dic)\n",
    "names"
   ]
  },
  {
   "cell_type": "code",
   "execution_count": 3,
   "id": "1809540d-9c05-468e-9121-14af001f1f0b",
   "metadata": {},
   "outputs": [
    {
     "data": {
      "text/plain": [
       "[('홍', '길동', 23),\n",
       " ('김', '철수', 45),\n",
       " ('이', '성계', 99),\n",
       " ('박', '지성', 41),\n",
       " ('최', '용수', 48)]"
      ]
     },
     "execution_count": 3,
     "metadata": {},
     "output_type": "execute_result"
    }
   ],
   "source": [
    "list(zip(list1,list2,list3))"
   ]
  },
  {
   "cell_type": "code",
   "execution_count": 4,
   "id": "a7b42474-d996-4ca1-b07e-ab93b3df6375",
   "metadata": {},
   "outputs": [
    {
     "data": {
      "text/html": [
       "<div>\n",
       "<style scoped>\n",
       "    .dataframe tbody tr th:only-of-type {\n",
       "        vertical-align: middle;\n",
       "    }\n",
       "\n",
       "    .dataframe tbody tr th {\n",
       "        vertical-align: top;\n",
       "    }\n",
       "\n",
       "    .dataframe thead th {\n",
       "        text-align: right;\n",
       "    }\n",
       "</style>\n",
       "<table border=\"1\" class=\"dataframe\">\n",
       "  <thead>\n",
       "    <tr style=\"text-align: right;\">\n",
       "      <th></th>\n",
       "      <th>familyName</th>\n",
       "      <th>firstName</th>\n",
       "      <th>age</th>\n",
       "    </tr>\n",
       "  </thead>\n",
       "  <tbody>\n",
       "    <tr>\n",
       "      <th>0</th>\n",
       "      <td>홍</td>\n",
       "      <td>길동</td>\n",
       "      <td>23</td>\n",
       "    </tr>\n",
       "    <tr>\n",
       "      <th>1</th>\n",
       "      <td>김</td>\n",
       "      <td>철수</td>\n",
       "      <td>45</td>\n",
       "    </tr>\n",
       "    <tr>\n",
       "      <th>2</th>\n",
       "      <td>이</td>\n",
       "      <td>성계</td>\n",
       "      <td>99</td>\n",
       "    </tr>\n",
       "    <tr>\n",
       "      <th>3</th>\n",
       "      <td>박</td>\n",
       "      <td>지성</td>\n",
       "      <td>41</td>\n",
       "    </tr>\n",
       "    <tr>\n",
       "      <th>4</th>\n",
       "      <td>최</td>\n",
       "      <td>용수</td>\n",
       "      <td>48</td>\n",
       "    </tr>\n",
       "  </tbody>\n",
       "</table>\n",
       "</div>"
      ],
      "text/plain": [
       "  familyName firstName  age\n",
       "0          홍        길동   23\n",
       "1          김        철수   45\n",
       "2          이        성계   99\n",
       "3          박        지성   41\n",
       "4          최        용수   48"
      ]
     },
     "execution_count": 4,
     "metadata": {},
     "output_type": "execute_result"
    }
   ],
   "source": [
    "#혹은 이 방법도 가능합니다.\n",
    "\n",
    "pd.DataFrame(list(zip(list1,list2,list3)),\n",
    "            columns=['familyName','firstName','age'])"
   ]
  },
  {
   "cell_type": "code",
   "execution_count": 5,
   "id": "ef33b814-b28e-4afb-9236-756a0f8f6090",
   "metadata": {},
   "outputs": [
    {
     "data": {
      "text/plain": [
       "array([0, 1, 2, 3])"
      ]
     },
     "execution_count": 5,
     "metadata": {},
     "output_type": "execute_result"
    }
   ],
   "source": [
    "list4 = np.arange(0,4)\n",
    "list4"
   ]
  },
  {
   "cell_type": "code",
   "execution_count": 6,
   "id": "238d9c6d-94b1-4e2e-b1d4-00f916cdd4e3",
   "metadata": {},
   "outputs": [
    {
     "data": {
      "text/plain": [
       "[('홍', '길동', 0), ('김', '철수', 1), ('이', '성계', 2), ('박', '지성', 3)]"
      ]
     },
     "execution_count": 6,
     "metadata": {},
     "output_type": "execute_result"
    }
   ],
   "source": [
    "list(zip(list1,list2,list4))"
   ]
  },
  {
   "cell_type": "code",
   "execution_count": 7,
   "id": "79a84a4c-366d-4e3c-8c45-8b1b0c85be3f",
   "metadata": {},
   "outputs": [
    {
     "data": {
      "text/html": [
       "<div>\n",
       "<style scoped>\n",
       "    .dataframe tbody tr th:only-of-type {\n",
       "        vertical-align: middle;\n",
       "    }\n",
       "\n",
       "    .dataframe tbody tr th {\n",
       "        vertical-align: top;\n",
       "    }\n",
       "\n",
       "    .dataframe thead th {\n",
       "        text-align: right;\n",
       "    }\n",
       "</style>\n",
       "<table border=\"1\" class=\"dataframe\">\n",
       "  <thead>\n",
       "    <tr style=\"text-align: right;\">\n",
       "      <th></th>\n",
       "      <th>familyName</th>\n",
       "      <th>firstName</th>\n",
       "      <th>age</th>\n",
       "    </tr>\n",
       "  </thead>\n",
       "  <tbody>\n",
       "    <tr>\n",
       "      <th>0</th>\n",
       "      <td>홍</td>\n",
       "      <td>길동</td>\n",
       "      <td>0</td>\n",
       "    </tr>\n",
       "    <tr>\n",
       "      <th>1</th>\n",
       "      <td>김</td>\n",
       "      <td>철수</td>\n",
       "      <td>1</td>\n",
       "    </tr>\n",
       "    <tr>\n",
       "      <th>2</th>\n",
       "      <td>이</td>\n",
       "      <td>성계</td>\n",
       "      <td>2</td>\n",
       "    </tr>\n",
       "    <tr>\n",
       "      <th>3</th>\n",
       "      <td>박</td>\n",
       "      <td>지성</td>\n",
       "      <td>3</td>\n",
       "    </tr>\n",
       "  </tbody>\n",
       "</table>\n",
       "</div>"
      ],
      "text/plain": [
       "  familyName firstName  age\n",
       "0          홍        길동    0\n",
       "1          김        철수    1\n",
       "2          이        성계    2\n",
       "3          박        지성    3"
      ]
     },
     "execution_count": 7,
     "metadata": {},
     "output_type": "execute_result"
    }
   ],
   "source": [
    "#주의!! 길이가 다르면 결과도 다르게 나옵니다!!\n",
    "\n",
    "list4 = np.arange(0,4) #list4 = [0,1,2,3]\n",
    "pd.DataFrame(list(zip(list1,list2,list4)),\n",
    "            columns=['familyName','firstName','age'])"
   ]
  },
  {
   "cell_type": "code",
   "execution_count": 8,
   "id": "3dadb736-b05f-4eea-83b9-8d42b8135b91",
   "metadata": {},
   "outputs": [
    {
     "data": {
      "text/plain": [
       "RangeIndex(start=0, stop=5, step=1)"
      ]
     },
     "execution_count": 8,
     "metadata": {},
     "output_type": "execute_result"
    }
   ],
   "source": [
    "#자동으로 생성되는 index 확인\n",
    "names.index"
   ]
  },
  {
   "cell_type": "code",
   "execution_count": 9,
   "id": "e57b9848-80a5-43e6-aa69-f37dad7c775c",
   "metadata": {},
   "outputs": [
    {
     "data": {
      "text/html": [
       "<div>\n",
       "<style scoped>\n",
       "    .dataframe tbody tr th:only-of-type {\n",
       "        vertical-align: middle;\n",
       "    }\n",
       "\n",
       "    .dataframe tbody tr th {\n",
       "        vertical-align: top;\n",
       "    }\n",
       "\n",
       "    .dataframe thead th {\n",
       "        text-align: right;\n",
       "    }\n",
       "</style>\n",
       "<table border=\"1\" class=\"dataframe\">\n",
       "  <thead>\n",
       "    <tr style=\"text-align: right;\">\n",
       "      <th></th>\n",
       "      <th>family_name</th>\n",
       "      <th>first_name</th>\n",
       "      <th>age</th>\n",
       "    </tr>\n",
       "  </thead>\n",
       "  <tbody>\n",
       "    <tr>\n",
       "      <th>1번학생</th>\n",
       "      <td>홍</td>\n",
       "      <td>길동</td>\n",
       "      <td>23</td>\n",
       "    </tr>\n",
       "    <tr>\n",
       "      <th>2번학생</th>\n",
       "      <td>김</td>\n",
       "      <td>철수</td>\n",
       "      <td>45</td>\n",
       "    </tr>\n",
       "    <tr>\n",
       "      <th>3번학생</th>\n",
       "      <td>이</td>\n",
       "      <td>성계</td>\n",
       "      <td>99</td>\n",
       "    </tr>\n",
       "    <tr>\n",
       "      <th>4번학생</th>\n",
       "      <td>박</td>\n",
       "      <td>지성</td>\n",
       "      <td>41</td>\n",
       "    </tr>\n",
       "    <tr>\n",
       "      <th>5번학생</th>\n",
       "      <td>최</td>\n",
       "      <td>용수</td>\n",
       "      <td>48</td>\n",
       "    </tr>\n",
       "  </tbody>\n",
       "</table>\n",
       "</div>"
      ],
      "text/plain": [
       "     family_name first_name  age\n",
       "1번학생           홍         길동   23\n",
       "2번학생           김         철수   45\n",
       "3번학생           이         성계   99\n",
       "4번학생           박         지성   41\n",
       "5번학생           최         용수   48"
      ]
     },
     "execution_count": 9,
     "metadata": {},
     "output_type": "execute_result"
    }
   ],
   "source": [
    "names_dic = {'family_name' : list1, 'first_name':list2, 'age':list3}\n",
    "\n",
    "names = pd.DataFrame(names_dic,\n",
    "                     index=['1번학생','2번학생','3번학생','4번학생','5번학생',])\n",
    "\n",
    "names\n"
   ]
  },
  {
   "cell_type": "code",
   "execution_count": 10,
   "id": "2bc62815-de72-440d-a15f-1852629be8fc",
   "metadata": {},
   "outputs": [
    {
     "ename": "SyntaxError",
     "evalue": "invalid syntax (Temp/ipykernel_18320/1865750483.py, line 3)",
     "output_type": "error",
     "traceback": [
      "\u001b[1;36m  File \u001b[1;32m\"C:\\Users\\chlyo\\AppData\\Local\\Temp/ipykernel_18320/1865750483.py\"\u001b[1;36m, line \u001b[1;32m3\u001b[0m\n\u001b[1;33m    columns=['age','first_name','family_name'])\u001b[0m\n\u001b[1;37m    ^\u001b[0m\n\u001b[1;31mSyntaxError\u001b[0m\u001b[1;31m:\u001b[0m invalid syntax\n"
     ]
    }
   ],
   "source": [
    "names = pd.DataFrame(names_dic,\n",
    "                     index=['1번학생','2번학생','3번학생','4번학생','5번학생',]\n",
    "                     columns=['age','first_name','family_name'])\n",
    "names"
   ]
  },
  {
   "cell_type": "code",
   "execution_count": null,
   "id": "c5e4fc7d-b4ac-49ac-8c09-9244a146add7",
   "metadata": {},
   "outputs": [],
   "source": [
    "names = pd.DataFrame(names_dic)\n",
    "names.to_csv('names.csv')\n",
    "new_names = pd.read_csv('names.csv')"
   ]
  },
  {
   "cell_type": "code",
   "execution_count": null,
   "id": "2d0edd53-fe3b-4935-ad0f-dcb79551071e",
   "metadata": {},
   "outputs": [],
   "source": [
    "new_names"
   ]
  },
  {
   "cell_type": "code",
   "execution_count": null,
   "id": "2783e003-0b47-4aa3-a0c4-ef8da6c9056f",
   "metadata": {},
   "outputs": [],
   "source": [
    "#new_names.drop(columns=new_names.columns[0])\n",
    "#new_names.iloc[:,1:]\n",
    "new_names"
   ]
  },
  {
   "cell_type": "code",
   "execution_count": null,
   "id": "1abf661e-2c76-43f0-9d27-13080f3d2b8b",
   "metadata": {},
   "outputs": [],
   "source": [
    "diamonds = pd.read_csv('./data/data/diamonds.csv', nrows = 1000)\n",
    "diamonds.info()"
   ]
  },
  {
   "cell_type": "code",
   "execution_count": null,
   "id": "b27a3a79-9e9b-47c7-8792-84f2feb21523",
   "metadata": {},
   "outputs": [],
   "source": [
    "np.finfo('float64')"
   ]
  },
  {
   "cell_type": "code",
   "execution_count": null,
   "id": "97bb1333-642e-4dc5-b4e9-06fa7cd3d33d",
   "metadata": {},
   "outputs": [],
   "source": [
    "np.finfo('float32')"
   ]
  },
  {
   "cell_type": "code",
   "execution_count": null,
   "id": "18696d42-d8ac-499a-8efb-f4c6d72b3b24",
   "metadata": {},
   "outputs": [],
   "source": [
    "np.finfo('float16')"
   ]
  },
  {
   "cell_type": "code",
   "execution_count": null,
   "id": "a0dfdb06-4e6d-49dc-b2f7-129b41d84bf7",
   "metadata": {},
   "outputs": [],
   "source": [
    "diamonds.head()"
   ]
  },
  {
   "cell_type": "code",
   "execution_count": null,
   "id": "308ba833-9e42-497f-8dce-baf5774e4e2f",
   "metadata": {},
   "outputs": [],
   "source": [
    "diamonds.describe().T"
   ]
  },
  {
   "cell_type": "code",
   "execution_count": null,
   "id": "f3ac2079-c164-4d64-94f5-933ab6141d5f",
   "metadata": {},
   "outputs": [],
   "source": [
    "np.iinfo('int64')"
   ]
  },
  {
   "cell_type": "code",
   "execution_count": null,
   "id": "0e3b9db7-38ad-4396-96cb-2ce0ff819d6d",
   "metadata": {},
   "outputs": [],
   "source": [
    "#price는 아래와 같이 바꾸면 됨\n",
    "np.iinfo('int16')"
   ]
  },
  {
   "cell_type": "code",
   "execution_count": null,
   "id": "0ed7cc5b-128f-49cd-b209-aa8b785fc857",
   "metadata": {},
   "outputs": [],
   "source": [
    "np.iinfo('int32')"
   ]
  },
  {
   "cell_type": "code",
   "execution_count": null,
   "id": "0ebf6627-87a3-4970-bf56-d039335b72d0",
   "metadata": {},
   "outputs": [],
   "source": [
    "np.iinfo('int8')"
   ]
  },
  {
   "cell_type": "code",
   "execution_count": null,
   "id": "d5a30600-ee51-456f-a7f6-2210bc4b974c",
   "metadata": {},
   "outputs": [],
   "source": [
    "diamonds2 = pd.read_csv('./data/data/diamonds.csv', nrows = 1000,\n",
    "                       dtype={\n",
    "                           'carat':np.float16,\n",
    "                           'depth':np.float16,\n",
    "                           'table':np.float16,\n",
    "                           'x':np.float16,\n",
    "                           'y':np.float16,\n",
    "                           'z':np.float16,\n",
    "                           'price':np.float16})\n",
    "diamonds2.info()"
   ]
  },
  {
   "cell_type": "code",
   "execution_count": null,
   "id": "d897ded4-162f-4c5c-b895-5e4d52b00c23",
   "metadata": {},
   "outputs": [],
   "source": [
    "round(37.2/78.2,2)"
   ]
  },
  {
   "cell_type": "code",
   "execution_count": null,
   "id": "07cca02c-c445-4968-a3b5-abc901d0d2b7",
   "metadata": {},
   "outputs": [],
   "source": [
    "diamonds2.describe(include='O')"
   ]
  },
  {
   "cell_type": "code",
   "execution_count": null,
   "id": "02b0f62d-dfec-4fbb-add1-d758f4eaf4db",
   "metadata": {},
   "outputs": [],
   "source": [
    "diamonds2.cut.value_counts()"
   ]
  },
  {
   "cell_type": "code",
   "execution_count": null,
   "id": "40c77be6-9e93-48ae-b95e-c18f3a6f2f98",
   "metadata": {},
   "outputs": [],
   "source": [
    "diamonds2.color.value_counts()"
   ]
  },
  {
   "cell_type": "code",
   "execution_count": null,
   "id": "442ee017-12a0-4302-8c8b-2b66c2fabc36",
   "metadata": {},
   "outputs": [],
   "source": [
    "diamonds2.clarity.value_counts()"
   ]
  },
  {
   "cell_type": "code",
   "execution_count": null,
   "id": "aeb53d8d-c9c5-4029-82ce-99d7a49dc745",
   "metadata": {},
   "outputs": [],
   "source": [
    "diamonds3 = pd.read_csv('./data/data/diamonds.csv', nrows = 1000,\n",
    "                       dtype={\n",
    "                           'carat':np.float16,\n",
    "                           'depth':np.float16,\n",
    "                           'table':np.float16,\n",
    "                           'x':np.float16,\n",
    "                           'y':np.float16,\n",
    "                           'z':np.float16,\n",
    "                           'price':np.float16,\n",
    "                           'color':'category',\n",
    "                           'cut':'category',\n",
    "                           'clarity':'category', \n",
    "                       })\n",
    "diamonds3.info()"
   ]
  },
  {
   "cell_type": "code",
   "execution_count": null,
   "id": "7173a7ef-a1ec-4dbd-93a5-2fdde69ca9f0",
   "metadata": {},
   "outputs": [],
   "source": [
    "round(17.6/78.2,2)"
   ]
  },
  {
   "cell_type": "code",
   "execution_count": null,
   "id": "b5eff4dc-40a1-4552-b5c8-d55721db297a",
   "metadata": {},
   "outputs": [],
   "source": [
    "# 특정컬럼만 뽑아서 정렬 - 1) usecols 사용하는 방법\n",
    "cols = ['carat','color','clarity','depth','table','price']\n",
    "\n",
    "diamonds4 = pd.read_csv('./data/data/diamonds.csv', nrows = 1000,\n",
    "                       dtype={\n",
    "                           'carat':np.float16,\n",
    "                           'depth':np.float16,\n",
    "                           'table':np.float16,\n",
    "                           'price':np.float16,\n",
    "                           'color':'category',\n",
    "                           'cut':'category',\n",
    "                           'clarity':'category', \n",
    "                       },\n",
    "                       usecols=cols)\n",
    "diamonds4.info()\n"
   ]
  },
  {
   "cell_type": "code",
   "execution_count": null,
   "id": "a582c73e-2f72-424d-90f5-ee5a8d8dbebf",
   "metadata": {},
   "outputs": [],
   "source": [
    "#-2) chunksize 로 하는방법\n",
    "cols = ['carat','color','clarity','depth','table','price']\n",
    "\n",
    "diamonds_iter = pd.read_csv('./data/data/diamonds.csv', nrows = 1000,\n",
    "                       dtype={\n",
    "                           'carat':np.float16,\n",
    "                           'depth':np.float16,\n",
    "                           'table':np.float16,\n",
    "                           'price':np.float16,\n",
    "                           'color':'category',\n",
    "                           'cut':'category',\n",
    "                           'clarity':'category', \n",
    "                       },\n",
    "                       usecols=cols,\n",
    "                       chunksize=200 #이부분이죠!\n",
    "                           )\n",
    "\n",
    "def process(df):\n",
    "    return f'processed{df.shape} shape of df{df.iloc[0,:]}'\n",
    "\n",
    "for chunk in diamonds_iter:\n",
    "    print(process(chunk))"
   ]
  },
  {
   "cell_type": "code",
   "execution_count": null,
   "id": "3651b8fb-0804-4f8e-8392-d3351885c58f",
   "metadata": {},
   "outputs": [],
   "source": [
    " diamonds.to_excel('dia.xlsx',sheet_name='test')"
   ]
  },
  {
   "cell_type": "code",
   "execution_count": null,
   "id": "ab28bffd-7264-4e34-bbef-080868da2ab4",
   "metadata": {},
   "outputs": [],
   "source": [
    "xl_writer = pd.ExcelWriter('dial.xlsx')\n",
    "diamonds.to_excel(xl_writer, sheet_name='test')\n",
    "diamonds[diamonds.price > 1000].to_excel(xl_writer, sheet_name='300')\n",
    "xl_writer.save()"
   ]
  },
  {
   "cell_type": "code",
   "execution_count": null,
   "id": "dc9c06af-a16f-4bd0-a9fa-928946e63556",
   "metadata": {},
   "outputs": [],
   "source": [
    "dia = pd.read_excel('dia.xlsx')\n",
    "dia"
   ]
  },
  {
   "cell_type": "code",
   "execution_count": null,
   "id": "9bbcea04-075c-4f12-bacf-92e6b83630ef",
   "metadata": {},
   "outputs": [],
   "source": [
    "names_dic"
   ]
  },
  {
   "cell_type": "code",
   "execution_count": null,
   "id": "00640820-239c-4717-a641-81ad951b3a3f",
   "metadata": {},
   "outputs": [],
   "source": [
    "import json\n",
    "\n",
    "#encoded = json.dumps(names_dic)\n",
    "#데이터에는 문제가 없지만. 깨져서 나오는 게 보기 싫을 땐 아래와 같이 해줍니다.\n",
    "encoded = json.dumps(names_dic,ensure_ascii=False)\n",
    "encoded"
   ]
  },
  {
   "cell_type": "code",
   "execution_count": 11,
   "id": "73dfb90b-17a3-4d3a-ba51-df0c6a06471f",
   "metadata": {},
   "outputs": [
    {
     "data": {
      "text/plain": [
       "'[{\"family_name\":\"홍\",\"first_name\":\"길동\",\"age\":23},{\"family_name\":\"김\",\"first_name\":\"철수\",\"age\":45},{\"family_name\":\"이\",\"first_name\":\"성계\",\"age\":99},{\"family_name\":\"박\",\"first_name\":\"지성\",\"age\":41},{\"family_name\":\"최\",\"first_name\":\"용수\",\"age\":48}]'"
      ]
     },
     "execution_count": 11,
     "metadata": {},
     "output_type": "execute_result"
    }
   ],
   "source": [
    "#records는 행의 리스트로 표현합니다.\n",
    "\n",
    "json_records = names.to_json(orient='records', force_ascii = False)\n",
    "json_records"
   ]
  },
  {
   "cell_type": "code",
   "execution_count": 12,
   "id": "fea86400-7194-4a07-b2c2-7348eb9d572e",
   "metadata": {},
   "outputs": [
    {
     "data": {
      "text/html": [
       "<div>\n",
       "<style scoped>\n",
       "    .dataframe tbody tr th:only-of-type {\n",
       "        vertical-align: middle;\n",
       "    }\n",
       "\n",
       "    .dataframe tbody tr th {\n",
       "        vertical-align: top;\n",
       "    }\n",
       "\n",
       "    .dataframe thead th {\n",
       "        text-align: right;\n",
       "    }\n",
       "</style>\n",
       "<table border=\"1\" class=\"dataframe\">\n",
       "  <thead>\n",
       "    <tr style=\"text-align: right;\">\n",
       "      <th></th>\n",
       "      <th>family_name</th>\n",
       "      <th>first_name</th>\n",
       "      <th>age</th>\n",
       "    </tr>\n",
       "  </thead>\n",
       "  <tbody>\n",
       "    <tr>\n",
       "      <th>0</th>\n",
       "      <td>홍</td>\n",
       "      <td>길동</td>\n",
       "      <td>23</td>\n",
       "    </tr>\n",
       "    <tr>\n",
       "      <th>1</th>\n",
       "      <td>김</td>\n",
       "      <td>철수</td>\n",
       "      <td>45</td>\n",
       "    </tr>\n",
       "    <tr>\n",
       "      <th>2</th>\n",
       "      <td>이</td>\n",
       "      <td>성계</td>\n",
       "      <td>99</td>\n",
       "    </tr>\n",
       "    <tr>\n",
       "      <th>3</th>\n",
       "      <td>박</td>\n",
       "      <td>지성</td>\n",
       "      <td>41</td>\n",
       "    </tr>\n",
       "    <tr>\n",
       "      <th>4</th>\n",
       "      <td>최</td>\n",
       "      <td>용수</td>\n",
       "      <td>48</td>\n",
       "    </tr>\n",
       "  </tbody>\n",
       "</table>\n",
       "</div>"
      ],
      "text/plain": [
       "  family_name first_name  age\n",
       "0           홍         길동   23\n",
       "1           김         철수   45\n",
       "2           이         성계   99\n",
       "3           박         지성   41\n",
       "4           최         용수   48"
      ]
     },
     "execution_count": 12,
     "metadata": {},
     "output_type": "execute_result"
    }
   ],
   "source": [
    "pd.read_json(json_records)"
   ]
  },
  {
   "cell_type": "code",
   "execution_count": 13,
   "id": "7000b193-ef43-4e01-b623-361db62957ac",
   "metadata": {},
   "outputs": [
    {
     "data": {
      "text/plain": [
       "'{\"columns\":[\"family_name\",\"first_name\",\"age\"],\"index\":[\"1번학생\",\"2번학생\",\"3번학생\",\"4번학생\",\"5번학생\"],\"data\":[[\"홍\",\"길동\",23],[\"김\",\"철수\",45],[\"이\",\"성계\",99],[\"박\",\"지성\",41],[\"최\",\"용수\",48]]}'"
      ]
     },
     "execution_count": 13,
     "metadata": {},
     "output_type": "execute_result"
    }
   ],
   "source": [
    "#split은 columns,index,data 를 따로따로 저장합니다\n",
    "json_split = names.to_json(orient='split',force_ascii=False)\n",
    "json_split"
   ]
  },
  {
   "cell_type": "code",
   "execution_count": 14,
   "id": "85466222-34cb-472a-b1ac-b9065172a18c",
   "metadata": {},
   "outputs": [
    {
     "data": {
      "text/html": [
       "<div>\n",
       "<style scoped>\n",
       "    .dataframe tbody tr th:only-of-type {\n",
       "        vertical-align: middle;\n",
       "    }\n",
       "\n",
       "    .dataframe tbody tr th {\n",
       "        vertical-align: top;\n",
       "    }\n",
       "\n",
       "    .dataframe thead th {\n",
       "        text-align: right;\n",
       "    }\n",
       "</style>\n",
       "<table border=\"1\" class=\"dataframe\">\n",
       "  <thead>\n",
       "    <tr style=\"text-align: right;\">\n",
       "      <th></th>\n",
       "      <th>family_name</th>\n",
       "      <th>first_name</th>\n",
       "      <th>age</th>\n",
       "    </tr>\n",
       "  </thead>\n",
       "  <tbody>\n",
       "    <tr>\n",
       "      <th>1번학생</th>\n",
       "      <td>홍</td>\n",
       "      <td>길동</td>\n",
       "      <td>23</td>\n",
       "    </tr>\n",
       "    <tr>\n",
       "      <th>2번학생</th>\n",
       "      <td>김</td>\n",
       "      <td>철수</td>\n",
       "      <td>45</td>\n",
       "    </tr>\n",
       "    <tr>\n",
       "      <th>3번학생</th>\n",
       "      <td>이</td>\n",
       "      <td>성계</td>\n",
       "      <td>99</td>\n",
       "    </tr>\n",
       "    <tr>\n",
       "      <th>4번학생</th>\n",
       "      <td>박</td>\n",
       "      <td>지성</td>\n",
       "      <td>41</td>\n",
       "    </tr>\n",
       "    <tr>\n",
       "      <th>5번학생</th>\n",
       "      <td>최</td>\n",
       "      <td>용수</td>\n",
       "      <td>48</td>\n",
       "    </tr>\n",
       "  </tbody>\n",
       "</table>\n",
       "</div>"
      ],
      "text/plain": [
       "     family_name first_name  age\n",
       "1번학생           홍         길동   23\n",
       "2번학생           김         철수   45\n",
       "3번학생           이         성계   99\n",
       "4번학생           박         지성   41\n",
       "5번학생           최         용수   48"
      ]
     },
     "execution_count": 14,
     "metadata": {},
     "output_type": "execute_result"
    }
   ],
   "source": [
    "pd.read_json(json_split,orient='split')"
   ]
  },
  {
   "cell_type": "code",
   "execution_count": 15,
   "id": "0fa95174-b0ee-4ce9-9a12-971d96ddeb6e",
   "metadata": {},
   "outputs": [
    {
     "data": {
      "text/plain": [
       "'{\"1번학생\":{\"family_name\":\"홍\",\"first_name\":\"길동\",\"age\":23},\"2번학생\":{\"family_name\":\"김\",\"first_name\":\"철수\",\"age\":45},\"3번학생\":{\"family_name\":\"이\",\"first_name\":\"성계\",\"age\":99},\"4번학생\":{\"family_name\":\"박\",\"first_name\":\"지성\",\"age\":41},\"5번학생\":{\"family_name\":\"최\",\"first_name\":\"용수\",\"age\":48}}'"
      ]
     },
     "execution_count": 15,
     "metadata": {},
     "output_type": "execute_result"
    }
   ],
   "source": [
    "#index는 index 값을 행에 매핑합니다.\n",
    "json_index = names.to_json(orient='index',force_ascii=False)\n",
    "json_index"
   ]
  },
  {
   "cell_type": "code",
   "execution_count": 16,
   "id": "1badbf07-52d2-4a92-aa95-8319f71e0030",
   "metadata": {},
   "outputs": [
    {
     "data": {
      "text/html": [
       "<div>\n",
       "<style scoped>\n",
       "    .dataframe tbody tr th:only-of-type {\n",
       "        vertical-align: middle;\n",
       "    }\n",
       "\n",
       "    .dataframe tbody tr th {\n",
       "        vertical-align: top;\n",
       "    }\n",
       "\n",
       "    .dataframe thead th {\n",
       "        text-align: right;\n",
       "    }\n",
       "</style>\n",
       "<table border=\"1\" class=\"dataframe\">\n",
       "  <thead>\n",
       "    <tr style=\"text-align: right;\">\n",
       "      <th></th>\n",
       "      <th>family_name</th>\n",
       "      <th>first_name</th>\n",
       "      <th>age</th>\n",
       "    </tr>\n",
       "  </thead>\n",
       "  <tbody>\n",
       "    <tr>\n",
       "      <th>1번학생</th>\n",
       "      <td>홍</td>\n",
       "      <td>길동</td>\n",
       "      <td>23</td>\n",
       "    </tr>\n",
       "    <tr>\n",
       "      <th>2번학생</th>\n",
       "      <td>김</td>\n",
       "      <td>철수</td>\n",
       "      <td>45</td>\n",
       "    </tr>\n",
       "    <tr>\n",
       "      <th>3번학생</th>\n",
       "      <td>이</td>\n",
       "      <td>성계</td>\n",
       "      <td>99</td>\n",
       "    </tr>\n",
       "    <tr>\n",
       "      <th>4번학생</th>\n",
       "      <td>박</td>\n",
       "      <td>지성</td>\n",
       "      <td>41</td>\n",
       "    </tr>\n",
       "    <tr>\n",
       "      <th>5번학생</th>\n",
       "      <td>최</td>\n",
       "      <td>용수</td>\n",
       "      <td>48</td>\n",
       "    </tr>\n",
       "  </tbody>\n",
       "</table>\n",
       "</div>"
      ],
      "text/plain": [
       "     family_name first_name  age\n",
       "1번학생           홍         길동   23\n",
       "2번학생           김         철수   45\n",
       "3번학생           이         성계   99\n",
       "4번학생           박         지성   41\n",
       "5번학생           최         용수   48"
      ]
     },
     "execution_count": 16,
     "metadata": {},
     "output_type": "execute_result"
    }
   ],
   "source": [
    "pd.read_json(json_index, orient='index')"
   ]
  },
  {
   "cell_type": "code",
   "execution_count": 17,
   "id": "8ee552c8-1c42-459d-b0f2-0d2a0ad1396f",
   "metadata": {},
   "outputs": [
    {
     "data": {
      "text/plain": [
       "'[[\"홍\",\"길동\",23],[\"김\",\"철수\",45],[\"이\",\"성계\",99],[\"박\",\"지성\",41],[\"최\",\"용수\",48]]'"
      ]
     },
     "execution_count": 17,
     "metadata": {},
     "output_type": "execute_result"
    }
   ],
   "source": [
    "json_values= names.to_json(orient='values',force_ascii=False)\n",
    "json_values"
   ]
  },
  {
   "cell_type": "code",
   "execution_count": 18,
   "id": "bd53e762-0eef-49fc-935c-8d314b704c2b",
   "metadata": {},
   "outputs": [
    {
     "data": {
      "text/html": [
       "<div>\n",
       "<style scoped>\n",
       "    .dataframe tbody tr th:only-of-type {\n",
       "        vertical-align: middle;\n",
       "    }\n",
       "\n",
       "    .dataframe tbody tr th {\n",
       "        vertical-align: top;\n",
       "    }\n",
       "\n",
       "    .dataframe thead th {\n",
       "        text-align: right;\n",
       "    }\n",
       "</style>\n",
       "<table border=\"1\" class=\"dataframe\">\n",
       "  <thead>\n",
       "    <tr style=\"text-align: right;\">\n",
       "      <th></th>\n",
       "      <th>family_name</th>\n",
       "      <th>first_name</th>\n",
       "      <th>age</th>\n",
       "    </tr>\n",
       "  </thead>\n",
       "  <tbody>\n",
       "    <tr>\n",
       "      <th>1번학생</th>\n",
       "      <td>홍</td>\n",
       "      <td>길동</td>\n",
       "      <td>23</td>\n",
       "    </tr>\n",
       "    <tr>\n",
       "      <th>2번학생</th>\n",
       "      <td>김</td>\n",
       "      <td>철수</td>\n",
       "      <td>45</td>\n",
       "    </tr>\n",
       "    <tr>\n",
       "      <th>3번학생</th>\n",
       "      <td>이</td>\n",
       "      <td>성계</td>\n",
       "      <td>99</td>\n",
       "    </tr>\n",
       "    <tr>\n",
       "      <th>4번학생</th>\n",
       "      <td>박</td>\n",
       "      <td>지성</td>\n",
       "      <td>41</td>\n",
       "    </tr>\n",
       "    <tr>\n",
       "      <th>5번학생</th>\n",
       "      <td>최</td>\n",
       "      <td>용수</td>\n",
       "      <td>48</td>\n",
       "    </tr>\n",
       "  </tbody>\n",
       "</table>\n",
       "</div>"
      ],
      "text/plain": [
       "     family_name first_name  age\n",
       "1번학생           홍         길동   23\n",
       "2번학생           김         철수   45\n",
       "3번학생           이         성계   99\n",
       "4번학생           박         지성   41\n",
       "5번학생           최         용수   48"
      ]
     },
     "execution_count": 18,
     "metadata": {},
     "output_type": "execute_result"
    }
   ],
   "source": [
    "pd.read_json(json_index, orient='index')"
   ]
  },
  {
   "cell_type": "code",
   "execution_count": 19,
   "id": "769f2dd9-c06d-49e4-825e-000c3e4777bd",
   "metadata": {},
   "outputs": [
    {
     "data": {
      "text/plain": [
       "'{\"schema\":{\"fields\":[{\"name\":\"index\",\"type\":\"string\"},{\"name\":\"family_name\",\"type\":\"string\"},{\"name\":\"first_name\",\"type\":\"string\"},{\"name\":\"age\",\"type\":\"integer\"}],\"primaryKey\":[\"index\"],\"pandas_version\":\"0.20.0\"},\"data\":[{\"index\":\"1번학생\",\"family_name\":\"홍\",\"first_name\":\"길동\",\"age\":23},{\"index\":\"2번학생\",\"family_name\":\"김\",\"first_name\":\"철수\",\"age\":45},{\"index\":\"3번학생\",\"family_name\":\"이\",\"first_name\":\"성계\",\"age\":99},{\"index\":\"4번학생\",\"family_name\":\"박\",\"first_name\":\"지성\",\"age\":41},{\"index\":\"5번학생\",\"family_name\":\"최\",\"first_name\":\"용수\",\"age\":48}]}'"
      ]
     },
     "execution_count": 19,
     "metadata": {},
     "output_type": "execute_result"
    }
   ],
   "source": [
    "#table 은 스키마와 데이터를 나눠서 저장합니다.\n",
    "json_table= names.to_json(orient='table',force_ascii=False)\n",
    "json_table"
   ]
  },
  {
   "cell_type": "code",
   "execution_count": 20,
   "id": "5275c2b3-0dbc-4b8f-927b-8d5a532eaa04",
   "metadata": {},
   "outputs": [
    {
     "data": {
      "text/html": [
       "<div>\n",
       "<style scoped>\n",
       "    .dataframe tbody tr th:only-of-type {\n",
       "        vertical-align: middle;\n",
       "    }\n",
       "\n",
       "    .dataframe tbody tr th {\n",
       "        vertical-align: top;\n",
       "    }\n",
       "\n",
       "    .dataframe thead th {\n",
       "        text-align: right;\n",
       "    }\n",
       "</style>\n",
       "<table border=\"1\" class=\"dataframe\">\n",
       "  <thead>\n",
       "    <tr style=\"text-align: right;\">\n",
       "      <th></th>\n",
       "      <th>family_name</th>\n",
       "      <th>first_name</th>\n",
       "      <th>age</th>\n",
       "    </tr>\n",
       "  </thead>\n",
       "  <tbody>\n",
       "    <tr>\n",
       "      <th>1번학생</th>\n",
       "      <td>홍</td>\n",
       "      <td>길동</td>\n",
       "      <td>23</td>\n",
       "    </tr>\n",
       "    <tr>\n",
       "      <th>2번학생</th>\n",
       "      <td>김</td>\n",
       "      <td>철수</td>\n",
       "      <td>45</td>\n",
       "    </tr>\n",
       "    <tr>\n",
       "      <th>3번학생</th>\n",
       "      <td>이</td>\n",
       "      <td>성계</td>\n",
       "      <td>99</td>\n",
       "    </tr>\n",
       "    <tr>\n",
       "      <th>4번학생</th>\n",
       "      <td>박</td>\n",
       "      <td>지성</td>\n",
       "      <td>41</td>\n",
       "    </tr>\n",
       "    <tr>\n",
       "      <th>5번학생</th>\n",
       "      <td>최</td>\n",
       "      <td>용수</td>\n",
       "      <td>48</td>\n",
       "    </tr>\n",
       "  </tbody>\n",
       "</table>\n",
       "</div>"
      ],
      "text/plain": [
       "     family_name first_name  age\n",
       "1번학생           홍         길동   23\n",
       "2번학생           김         철수   45\n",
       "3번학생           이         성계   99\n",
       "4번학생           박         지성   41\n",
       "5번학생           최         용수   48"
      ]
     },
     "execution_count": 20,
     "metadata": {},
     "output_type": "execute_result"
    }
   ],
   "source": [
    "pd.read_json(json_table, orient='table')"
   ]
  },
  {
   "cell_type": "code",
   "execution_count": 21,
   "id": "913ac674-172e-4b45-b216-55e5152c72d1",
   "metadata": {},
   "outputs": [
    {
     "data": {
      "text/plain": [
       "12"
      ]
     },
     "execution_count": 21,
     "metadata": {},
     "output_type": "execute_result"
    }
   ],
   "source": [
    "url = 'https://ko.wikipedia.org/wiki/2015%EB%85%84_%EB%8C%80%ED%95%9C%EB%AF%BC%EA%B5%AD_%EC%A4%91%EB%8F%99%ED%98%B8%ED%9D%A1%EA%B8%B0%EC%A6%9D%ED%9B%84%EA%B5%B0_%EC%9C%A0%ED%96%89'\n",
    "dfs = pd.read_html(url)\n",
    "len(dfs)"
   ]
  },
  {
   "cell_type": "code",
   "execution_count": 22,
   "id": "429b3cd0-f845-4c9f-9325-ec1b33f3a5b3",
   "metadata": {},
   "outputs": [
    {
     "data": {
      "text/html": [
       "<div>\n",
       "<style scoped>\n",
       "    .dataframe tbody tr th:only-of-type {\n",
       "        vertical-align: middle;\n",
       "    }\n",
       "\n",
       "    .dataframe tbody tr th {\n",
       "        vertical-align: top;\n",
       "    }\n",
       "\n",
       "    .dataframe thead th {\n",
       "        text-align: right;\n",
       "    }\n",
       "</style>\n",
       "<table border=\"1\" class=\"dataframe\">\n",
       "  <thead>\n",
       "    <tr style=\"text-align: right;\">\n",
       "      <th></th>\n",
       "      <th>날짜</th>\n",
       "      <th>감염자</th>\n",
       "      <th>사망자</th>\n",
       "    </tr>\n",
       "  </thead>\n",
       "  <tbody>\n",
       "    <tr>\n",
       "      <th>0</th>\n",
       "      <td>5월 20일</td>\n",
       "      <td>1명[8]</td>\n",
       "      <td>NaN</td>\n",
       "    </tr>\n",
       "    <tr>\n",
       "      <th>1</th>\n",
       "      <td>5월 21일</td>\n",
       "      <td>3명[9]</td>\n",
       "      <td>NaN</td>\n",
       "    </tr>\n",
       "    <tr>\n",
       "      <th>2</th>\n",
       "      <td>5월 26일</td>\n",
       "      <td>4명[10]</td>\n",
       "      <td>NaN</td>\n",
       "    </tr>\n",
       "    <tr>\n",
       "      <th>3</th>\n",
       "      <td>5월 27일</td>\n",
       "      <td>5명[11]</td>\n",
       "      <td>NaN</td>\n",
       "    </tr>\n",
       "    <tr>\n",
       "      <th>4</th>\n",
       "      <td>5월 28일</td>\n",
       "      <td>7명[12]</td>\n",
       "      <td>NaN</td>\n",
       "    </tr>\n",
       "    <tr>\n",
       "      <th>...</th>\n",
       "      <td>...</td>\n",
       "      <td>...</td>\n",
       "      <td>...</td>\n",
       "    </tr>\n",
       "    <tr>\n",
       "      <th>56</th>\n",
       "      <td>7월 19일</td>\n",
       "      <td>186명</td>\n",
       "      <td>36명</td>\n",
       "    </tr>\n",
       "    <tr>\n",
       "      <th>57</th>\n",
       "      <td>10월 25일</td>\n",
       "      <td>186명</td>\n",
       "      <td>37명</td>\n",
       "    </tr>\n",
       "    <tr>\n",
       "      <th>58</th>\n",
       "      <td>11월 25일</td>\n",
       "      <td>186명</td>\n",
       "      <td>38명</td>\n",
       "    </tr>\n",
       "    <tr>\n",
       "      <th>59</th>\n",
       "      <td>총 감염자 : 186명</td>\n",
       "      <td>총 감염자 : 186명</td>\n",
       "      <td>총 감염자 : 186명</td>\n",
       "    </tr>\n",
       "    <tr>\n",
       "      <th>60</th>\n",
       "      <td>총 사망자 : 38명</td>\n",
       "      <td>총 사망자 : 38명</td>\n",
       "      <td>총 사망자 : 38명</td>\n",
       "    </tr>\n",
       "  </tbody>\n",
       "</table>\n",
       "<p>61 rows × 3 columns</p>\n",
       "</div>"
      ],
      "text/plain": [
       "              날짜           감염자           사망자\n",
       "0         5월 20일         1명[8]           NaN\n",
       "1         5월 21일         3명[9]           NaN\n",
       "2         5월 26일        4명[10]           NaN\n",
       "3         5월 27일        5명[11]           NaN\n",
       "4         5월 28일        7명[12]           NaN\n",
       "..           ...           ...           ...\n",
       "56        7월 19일          186명           36명\n",
       "57       10월 25일          186명           37명\n",
       "58       11월 25일          186명           38명\n",
       "59  총 감염자 : 186명  총 감염자 : 186명  총 감염자 : 186명\n",
       "60   총 사망자 : 38명   총 사망자 : 38명   총 사망자 : 38명\n",
       "\n",
       "[61 rows x 3 columns]"
      ]
     },
     "execution_count": 22,
     "metadata": {},
     "output_type": "execute_result"
    }
   ],
   "source": [
    "dfs[1]"
   ]
  },
  {
   "cell_type": "code",
   "execution_count": 24,
   "id": "fd4bb70c-a750-4230-89bf-bb29042108ff",
   "metadata": {},
   "outputs": [
    {
     "data": {
      "text/html": [
       "<div>\n",
       "<style scoped>\n",
       "    .dataframe tbody tr th:only-of-type {\n",
       "        vertical-align: middle;\n",
       "    }\n",
       "\n",
       "    .dataframe tbody tr th {\n",
       "        vertical-align: top;\n",
       "    }\n",
       "\n",
       "    .dataframe thead th {\n",
       "        text-align: right;\n",
       "    }\n",
       "</style>\n",
       "<table border=\"1\" class=\"dataframe\">\n",
       "  <thead>\n",
       "    <tr style=\"text-align: right;\">\n",
       "      <th></th>\n",
       "      <th>날짜</th>\n",
       "      <th>감염자</th>\n",
       "      <th>사망자</th>\n",
       "    </tr>\n",
       "  </thead>\n",
       "  <tbody>\n",
       "    <tr>\n",
       "      <th>0</th>\n",
       "      <td>5월 20일</td>\n",
       "      <td>1명[8]</td>\n",
       "      <td>NaN</td>\n",
       "    </tr>\n",
       "    <tr>\n",
       "      <th>1</th>\n",
       "      <td>5월 21일</td>\n",
       "      <td>3명[9]</td>\n",
       "      <td>NaN</td>\n",
       "    </tr>\n",
       "    <tr>\n",
       "      <th>2</th>\n",
       "      <td>5월 26일</td>\n",
       "      <td>4명[10]</td>\n",
       "      <td>NaN</td>\n",
       "    </tr>\n",
       "    <tr>\n",
       "      <th>3</th>\n",
       "      <td>5월 27일</td>\n",
       "      <td>5명[11]</td>\n",
       "      <td>NaN</td>\n",
       "    </tr>\n",
       "    <tr>\n",
       "      <th>4</th>\n",
       "      <td>5월 28일</td>\n",
       "      <td>7명[12]</td>\n",
       "      <td>NaN</td>\n",
       "    </tr>\n",
       "    <tr>\n",
       "      <th>5</th>\n",
       "      <td>5월 29일</td>\n",
       "      <td>12명[13]</td>\n",
       "      <td>NaN</td>\n",
       "    </tr>\n",
       "    <tr>\n",
       "      <th>6</th>\n",
       "      <td>5월 30일</td>\n",
       "      <td>13명[14]</td>\n",
       "      <td>NaN</td>\n",
       "    </tr>\n",
       "    <tr>\n",
       "      <th>7</th>\n",
       "      <td>5월 31일</td>\n",
       "      <td>15명[15]</td>\n",
       "      <td>NaN</td>\n",
       "    </tr>\n",
       "    <tr>\n",
       "      <th>8</th>\n",
       "      <td>6월 1일</td>\n",
       "      <td>18명[16]</td>\n",
       "      <td>1명(사망 후 확진 판정)[5][17]</td>\n",
       "    </tr>\n",
       "    <tr>\n",
       "      <th>9</th>\n",
       "      <td>6월 2일</td>\n",
       "      <td>25명[18]</td>\n",
       "      <td>2명[18]</td>\n",
       "    </tr>\n",
       "  </tbody>\n",
       "</table>\n",
       "</div>"
      ],
      "text/plain": [
       "       날짜      감염자                    사망자\n",
       "0  5월 20일    1명[8]                    NaN\n",
       "1  5월 21일    3명[9]                    NaN\n",
       "2  5월 26일   4명[10]                    NaN\n",
       "3  5월 27일   5명[11]                    NaN\n",
       "4  5월 28일   7명[12]                    NaN\n",
       "5  5월 29일  12명[13]                    NaN\n",
       "6  5월 30일  13명[14]                    NaN\n",
       "7  5월 31일  15명[15]                    NaN\n",
       "8   6월 1일  18명[16]  1명(사망 후 확진 판정)[5][17]\n",
       "9   6월 2일  25명[18]                 2명[18]"
      ]
     },
     "execution_count": 24,
     "metadata": {},
     "output_type": "execute_result"
    }
   ],
   "source": [
    "dfs[1][0:10]"
   ]
  },
  {
   "cell_type": "code",
   "execution_count": 27,
   "id": "20f7bfc1-b9e1-4c50-8821-dd257f6b21cd",
   "metadata": {},
   "outputs": [
    {
     "data": {
      "text/html": [
       "<div>\n",
       "<style scoped>\n",
       "    .dataframe tbody tr th:only-of-type {\n",
       "        vertical-align: middle;\n",
       "    }\n",
       "\n",
       "    .dataframe tbody tr th {\n",
       "        vertical-align: top;\n",
       "    }\n",
       "\n",
       "    .dataframe thead th {\n",
       "        text-align: right;\n",
       "    }\n",
       "</style>\n",
       "<table border=\"1\" class=\"dataframe\">\n",
       "  <thead>\n",
       "    <tr style=\"text-align: right;\">\n",
       "      <th></th>\n",
       "      <th>날짜</th>\n",
       "      <th>감염자</th>\n",
       "      <th>사망자</th>\n",
       "    </tr>\n",
       "  </thead>\n",
       "  <tbody>\n",
       "    <tr>\n",
       "      <th>0</th>\n",
       "      <td>5월 20일</td>\n",
       "      <td>1명[8]</td>\n",
       "      <td>NaN</td>\n",
       "    </tr>\n",
       "    <tr>\n",
       "      <th>1</th>\n",
       "      <td>5월 21일</td>\n",
       "      <td>3명[9]</td>\n",
       "      <td>NaN</td>\n",
       "    </tr>\n",
       "    <tr>\n",
       "      <th>2</th>\n",
       "      <td>5월 26일</td>\n",
       "      <td>4명[10]</td>\n",
       "      <td>NaN</td>\n",
       "    </tr>\n",
       "    <tr>\n",
       "      <th>3</th>\n",
       "      <td>5월 27일</td>\n",
       "      <td>5명[11]</td>\n",
       "      <td>NaN</td>\n",
       "    </tr>\n",
       "    <tr>\n",
       "      <th>4</th>\n",
       "      <td>5월 28일</td>\n",
       "      <td>7명[12]</td>\n",
       "      <td>NaN</td>\n",
       "    </tr>\n",
       "    <tr>\n",
       "      <th>5</th>\n",
       "      <td>5월 29일</td>\n",
       "      <td>12명[13]</td>\n",
       "      <td>NaN</td>\n",
       "    </tr>\n",
       "    <tr>\n",
       "      <th>6</th>\n",
       "      <td>5월 30일</td>\n",
       "      <td>13명[14]</td>\n",
       "      <td>NaN</td>\n",
       "    </tr>\n",
       "    <tr>\n",
       "      <th>7</th>\n",
       "      <td>5월 31일</td>\n",
       "      <td>15명[15]</td>\n",
       "      <td>NaN</td>\n",
       "    </tr>\n",
       "    <tr>\n",
       "      <th>8</th>\n",
       "      <td>6월 1일</td>\n",
       "      <td>18명[16]</td>\n",
       "      <td>1명(사망 후 확진 판정)[5][17]</td>\n",
       "    </tr>\n",
       "    <tr>\n",
       "      <th>9</th>\n",
       "      <td>6월 2일</td>\n",
       "      <td>25명[18]</td>\n",
       "      <td>2명[18]</td>\n",
       "    </tr>\n",
       "  </tbody>\n",
       "</table>\n",
       "</div>"
      ],
      "text/plain": [
       "       날짜      감염자                    사망자\n",
       "0  5월 20일    1명[8]                    NaN\n",
       "1  5월 21일    3명[9]                    NaN\n",
       "2  5월 26일   4명[10]                    NaN\n",
       "3  5월 27일   5명[11]                    NaN\n",
       "4  5월 28일   7명[12]                    NaN\n",
       "5  5월 29일  12명[13]                    NaN\n",
       "6  5월 30일  13명[14]                    NaN\n",
       "7  5월 31일  15명[15]                    NaN\n",
       "8   6월 1일  18명[16]  1명(사망 후 확진 판정)[5][17]\n",
       "9   6월 2일  25명[18]                 2명[18]"
      ]
     },
     "execution_count": 27,
     "metadata": {},
     "output_type": "execute_result"
    }
   ],
   "source": [
    "dfs = pd.read_html(url,na_values='-')\n",
    "dfs[1][0:10]"
   ]
  }
 ],
 "metadata": {
  "kernelspec": {
   "display_name": "Python 3 (ipykernel)",
   "language": "python",
   "name": "python3"
  },
  "language_info": {
   "codemirror_mode": {
    "name": "ipython",
    "version": 3
   },
   "file_extension": ".py",
   "mimetype": "text/x-python",
   "name": "python",
   "nbconvert_exporter": "python",
   "pygments_lexer": "ipython3",
   "version": "3.9.7"
  }
 },
 "nbformat": 4,
 "nbformat_minor": 5
}
